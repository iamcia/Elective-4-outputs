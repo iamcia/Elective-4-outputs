{
  "cells": [
    {
      "cell_type": "markdown",
      "source": [
        "**ICOLUQANT**\n",
        "\n",
        "Final Project\n",
        "\n",
        "Group Leader: Noreen Leonico\n",
        "Members: Tricia Zantua\n",
        "         Brixter Luquing\n",
        "\n",
        "ITE ELECTIVE 4\n",
        "\n",
        "Course Adviser: Dr. Rodolfo Raga"
      ],
      "metadata": {
        "id": "nTwv94t4afJl"
      }
    },
    {
      "cell_type": "markdown",
      "source": [
        "The code below is establishing an NLP pipeline about text classification using pre-trained Transformer models on Hugging Face libraries and PyTorch. It has essential import statements, tokenization of text with AutoTokenizer, and initializes a pre-trained model for sequence classification with AutoModelForSequenceClassification. This is trained with the AdamW optimizer and a learning rate scheduler.\n",
        "\n",
        "Text data is cleaned and preprocessed with NLTK's stopwords and regular expressions for enhanced model performance. A custom Dataset class in PyTorch supports efficient data handling and batching. Performance is assessed by accuracy, precision, recall, and F1 score from sklearn.metrics, providing strong evaluation of the model's predictions.\n",
        "\n",
        "This design makes use of transfer learning, best practices in optimization, and thorough preprocessing to build an effective, scalable text classification system."
      ],
      "metadata": {
        "id": "ci7sR1GJMqY2"
      }
    },
    {
      "cell_type": "code",
      "source": [
        "import os\n",
        "import torch\n",
        "from transformers import AutoTokenizer, AutoModelForSequenceClassification, AdamW, get_scheduler\n",
        "from torch.utils.data import DataLoader, Dataset\n",
        "import pandas as pd\n",
        "import nltk\n",
        "import re\n",
        "from nltk.corpus import stopwords\n",
        "from sklearn.metrics import accuracy_score, precision_recall_fscore_support\n",
        "from collections import Counter\n",
        "\n",
        "# Download NLTK stopwords\n",
        "nltk.download('stopwords')\n",
        "stop_words = set(stopwords.words('english'))\n"
      ],
      "metadata": {
        "colab": {
          "base_uri": "https://localhost:8080/"
        },
        "id": "kYeJZWdOEUZE",
        "outputId": "75b0dd81-45d9-4acb-9c7e-8ae99590a5d2"
      },
      "execution_count": 48,
      "outputs": [
        {
          "output_type": "stream",
          "name": "stderr",
          "text": [
            "[nltk_data] Downloading package stopwords to /root/nltk_data...\n",
            "[nltk_data]   Package stopwords is already up-to-date!\n"
          ]
        }
      ]
    },
    {
      "cell_type": "markdown",
      "source": [
        "The preprocess_text function is essential in the NLP pipeline. It prepares raw text for tokenization and model input. It performs three basic tasks: lowercasing to standardize the case of the text, removal of special characters to reduce noise, and finally, the removal of stopwords to focus on meaningful content. Ensuring cleaner and more consistent input for the tokenizer, this aligns with the expectations of pre-trained models like BERT. Integrating this preprocessing step into the pipeline enhances model performance due to reduced complexity and improved focus on relevant features and delivers improved classification."
      ],
      "metadata": {
        "id": "m8oaZxZZN4Lg"
      }
    },
    {
      "cell_type": "code",
      "source": [
        "# Preprocessing Function\n",
        "def preprocess_text(text):\n",
        "    \"\"\"\n",
        "    Preprocess text by:\n",
        "    - Lowercasing\n",
        "    - Removing special characters\n",
        "    - Removing stopwords\n",
        "    \"\"\"\n",
        "    text = text.lower()\n",
        "    text = re.sub(r'[^a-z\\s]', '', text)\n",
        "    text = \" \".join([word for word in text.split() if word not in stop_words])\n",
        "    return text\n"
      ],
      "metadata": {
        "id": "D-Ez2X-VFvVX"
      },
      "execution_count": 49,
      "outputs": []
    },
    {
      "cell_type": "markdown",
      "source": [
        "The code handles loading a dataset in either CSV or Excel format, ensuring flexibility and managing encoding issues. It then fills missing values in the sentiment columns with empty strings to maintain consistency. The core task is mapping the text to sentiment labels (positive, neutral, negative) and applying the preprocess_text function to clean the text. After processing, the data is shuffled to avoid bias during training. The class distribution is analyzed to check for balance, which helps in making adjustments for model training. Finally, the processed data is ready for tokenization and input into the model, completing the preparation phase of the NLP pipeline."
      ],
      "metadata": {
        "id": "3BozBKcVOA02"
      }
    },
    {
      "cell_type": "code",
      "source": [
        "# Load Dataset\n",
        "file_path = '/content/HyflexSHS2022-2023Labeled.csv'  # Update this path\n",
        "\n",
        "# Check file extension and load appropriately\n",
        "if file_path.endswith('.csv'):\n",
        "    try:\n",
        "        df = pd.read_csv(file_path, encoding='utf-8')\n",
        "    except UnicodeDecodeError:\n",
        "        print(\"UTF-8 encoding failed. Retrying with 'latin1' encoding.\")\n",
        "        df = pd.read_csv(file_path, encoding='latin1')\n",
        "elif file_path.endswith('.xlsx'):\n",
        "    df = pd.read_excel(file_path, engine='openpyxl')\n",
        "else:\n",
        "    raise ValueError(\"Unsupported file format. Please provide a CSV or Excel file.\")\n",
        "\n",
        "# Fill missing values with empty strings\n",
        "df.fillna({\"Positive\": \"\", \"Neutral\": \"\", \"Negative\": \"\"}, inplace=True)\n",
        "\n",
        "# Map rows into labels\n",
        "data = []\n",
        "for _, row in df.iterrows():\n",
        "    if pd.notna(row[\"Positive\"]) and row[\"Positive\"].strip():\n",
        "        processed_text = preprocess_text(row[\"Positive\"])\n",
        "        data.append({\"text\": processed_text, \"label\": 1})  # Positive\n",
        "\n",
        "    if pd.notna(row[\"Neutral\"]) and row[\"Neutral\"].strip():\n",
        "        processed_text = preprocess_text(row[\"Neutral\"])\n",
        "        data.append({\"text\": processed_text, \"label\": 2})  # Neutral\n",
        "\n",
        "    if pd.notna(row[\"Negative\"]) and row[\"Negative\"].strip():\n",
        "        processed_text = preprocess_text(row[\"Negative\"])\n",
        "        data.append({\"text\": processed_text, \"label\": 0})  # Negative\n",
        "\n",
        "# Create DataFrame and shuffle\n",
        "processed_df = pd.DataFrame(data)\n",
        "processed_df = processed_df.sample(frac=1).reset_index(drop=True)\n",
        "\n",
        "# Display first 5 lines of processed text data\n",
        "print(\"\\nFirst 5 processed text samples:\")\n",
        "print(processed_df['text'].head())\n",
        "\n",
        "# Display class distribution\n",
        "class_counts = Counter([d['label'] for d in data])\n",
        "print(\"\\nClass Distribution:\")\n",
        "for label, count in class_counts.items():\n",
        "    sentiment = {0: \"Negative\", 1: \"Positive\", 2: \"Neutral\"}[label]\n",
        "    print(f\"{sentiment}: {count}\")\n"
      ],
      "metadata": {
        "colab": {
          "base_uri": "https://localhost:8080/"
        },
        "id": "1G0_a7_GFxg8",
        "outputId": "9d8cfb7c-9e70-402d-e31c-5947e4eacd6e"
      },
      "execution_count": 51,
      "outputs": [
        {
          "output_type": "stream",
          "name": "stdout",
          "text": [
            "UTF-8 encoding failed. Retrying with 'latin1' encoding.\n",
            "\n",
            "First 5 processed text samples:\n",
            "0                               interact online onsite\n",
            "1                               study modules anywhere\n",
            "2    equipment camera tv monitors microphones hyfle...\n",
            "3                                           convenient\n",
            "4                        teachers really excellent job\n",
            "Name: text, dtype: object\n",
            "\n",
            "Class Distribution:\n",
            "Positive: 533\n",
            "Neutral: 210\n",
            "Negative: 190\n"
          ]
        }
      ]
    },
    {
      "cell_type": "markdown",
      "source": [
        "The SentimentDataset class is a class developed for converting the preprocessed text data into a usable format by the PyTorch model for training. It includes text and labels, further tokenizes the text through a pre-trained tokenizer, and puts the data into a tensor form with the necessary parts like token IDs and attention masks. This class connects to the above code by handling the last step of preparing data for the model after it is cleaned and labeled to make it load efficiently for either training or evaluation."
      ],
      "metadata": {
        "id": "VUDL7kQSPZnP"
      }
    },
    {
      "cell_type": "code",
      "source": [
        "# Custom Dataset Class\n",
        "class SentimentDataset(Dataset):\n",
        "    def __init__(self, data, tokenizer, max_length=128):\n",
        "        self.data = data\n",
        "        self.tokenizer = tokenizer\n",
        "        self.max_length = max_length\n",
        "\n",
        "    def __len__(self):\n",
        "        return len(self.data)\n",
        "\n",
        "    def __getitem__(self, index):\n",
        "        text = self.data.iloc[index]['text']\n",
        "        label = self.data.iloc[index]['label']\n",
        "        tokens = self.tokenizer(\n",
        "            text,\n",
        "            padding=\"max_length\",\n",
        "            truncation=True,\n",
        "            max_length=self.max_length,\n",
        "            return_tensors=\"pt\",\n",
        "        )\n",
        "        return {\n",
        "            'input_ids': tokens['input_ids'].squeeze(0),\n",
        "            'attention_mask': tokens['attention_mask'].squeeze(0),\n",
        "            'label': torch.tensor(label, dtype=torch.long)\n",
        "        }\n"
      ],
      "metadata": {
        "id": "Geu7UeGAFxli"
      },
      "execution_count": 52,
      "outputs": []
    },
    {
      "cell_type": "markdown",
      "source": [
        "This following piece of code defines pretraining of a pretrained model, tokenizer, splitting off datasets for training, validations and tests, and it readies the data sets before model training by populating with DataLoader objects: Here the model is being chosen as \"distilbert-base-uncased\"-the smaller, much quicker adaptation of BERT-and loads tokenization as well using AutoTokenizer. The dataset is divided into three sets: training, validation, and test, with 80% for training, 10% for validation, and 10% for testing. Custom dataset instances are created for each dataset by passing the corresponding data and tokenizer. DataLoader objects are created for each dataset for efficient data loading during training. Finally, the raw text will be tokenized so that the model can process it and then split into training, validation, and test sets. This connects with the earlier steps, where it was labeled, cleaned, and preprocessed."
      ],
      "metadata": {
        "id": "A0DPY3ncP2eF"
      }
    },
    {
      "cell_type": "code",
      "source": [
        "# Initialize tokenizer and model from the specified pre-trained model\n",
        "model_name = \"distilbert-base-uncased\"\n",
        "tokenizer = AutoTokenizer.from_pretrained(model_name)\n",
        "model = AutoModelForSequenceClassification.from_pretrained(model_name, num_labels=3)\n",
        "\n",
        "# Split Dataset\n",
        "train_size = int(0.8 * len(processed_df))\n",
        "val_size = int(0.1 * len(processed_df))\n",
        "test_size = len(processed_df) - train_size - val_size\n",
        "\n",
        "train_data = processed_df[:train_size]\n",
        "val_data = processed_df[train_size:train_size + val_size]\n",
        "test_data = processed_df[train_size + val_size:]\n",
        "\n",
        "train_dataset = SentimentDataset(train_data, tokenizer)\n",
        "val_dataset = SentimentDataset(val_data, tokenizer)\n",
        "test_dataset = SentimentDataset(test_data, tokenizer)\n",
        "\n",
        "train_loader = DataLoader(train_dataset, batch_size=8, shuffle=True)\n",
        "val_loader = DataLoader(val_dataset, batch_size=8)\n",
        "test_loader = DataLoader(test_dataset, batch_size=8)\n"
      ],
      "metadata": {
        "colab": {
          "base_uri": "https://localhost:8080/"
        },
        "id": "B4FNMz8sFxoR",
        "outputId": "28dbc893-7bf5-4c84-b805-b6e8ad0363d2"
      },
      "execution_count": 53,
      "outputs": [
        {
          "output_type": "stream",
          "name": "stderr",
          "text": [
            "Some weights of DistilBertForSequenceClassification were not initialized from the model checkpoint at distilbert-base-uncased and are newly initialized: ['classifier.bias', 'classifier.weight', 'pre_classifier.bias', 'pre_classifier.weight']\n",
            "You should probably TRAIN this model on a down-stream task to be able to use it for predictions and inference.\n"
          ]
        }
      ]
    },
    {
      "cell_type": "markdown",
      "source": [
        "This code defines two functions in training a sentiment analysis model: train, responsible for the entire training loop, that incorporates the model's performance on the validation set and early stopping to save the best model, and evaluate, which computes metrics such as loss, accuracy, precision, recall, and F1-score on the provided dataset.\n",
        "\n",
        "The train function trains the model for a given number of epochs by iterating through the training data with the train_loader. It takes the input data and gives back logits, which are essentially the model's predictions. Loss calculation is performed through the criterion, and then the optimizer updates the weights of the model. This model is evaluated against the validation set, which is a val_loader, with the evaluate function. If validation loss goes down, the model gets saved, and the early stopping is activated in case of overfitting.\n",
        "\n",
        "The evaluation function evaluates the model on a given dataset to compute performance metrics. No gradient is used to ensure memory and computation saving. Model prediction is computed with finding the index of the highest logit value. The average loss for the entire dataset is returned and the output of the metrics is printed to see how well the model has performed."
      ],
      "metadata": {
        "id": "tl-bH29bQTbi"
      }
    },
    {
      "cell_type": "code",
      "source": [
        "# Training Function\n",
        "def train(model, train_loader, val_loader, optimizer, scheduler, criterion, device, epochs=10, patience=2):\n",
        "    best_val_loss = float('inf')\n",
        "    patience_counter = 0\n",
        "\n",
        "    for epoch in range(epochs):\n",
        "        model.train()\n",
        "        total_loss = 0\n",
        "        for batch in train_loader:\n",
        "            input_ids = batch['input_ids'].to(device)\n",
        "            attention_mask = batch['attention_mask'].to(device)\n",
        "            labels = batch['label'].to(device)\n",
        "\n",
        "            optimizer.zero_grad()\n",
        "            outputs = model(input_ids, attention_mask=attention_mask)\n",
        "            loss = criterion(outputs.logits, labels)\n",
        "            total_loss += loss.item()\n",
        "            loss.backward()\n",
        "            optimizer.step()\n",
        "\n",
        "        scheduler.step()\n",
        "\n",
        "        val_loss = evaluate(model, val_loader, device, criterion, return_loss=True)\n",
        "        print(f\"Epoch {epoch+1}/{epochs} | Train Loss: {total_loss / len(train_loader):.4f} | Val Loss: {val_loss:.4f}\")\n",
        "\n",
        "        if val_loss < best_val_loss:\n",
        "            best_val_loss = val_loss\n",
        "            patience_counter = 0\n",
        "            torch.save(model.state_dict(), 'best_model.pth')\n",
        "            print(\"Model saved to 'best_model.pth'\")\n",
        "        else:\n",
        "            patience_counter += 1\n",
        "            if patience_counter >= patience:\n",
        "                print(\"Early stopping triggered.\")\n",
        "                break\n",
        "\n",
        "# Evaluation Function\n",
        "def evaluate(model, data_loader, device, criterion=None, return_loss=False):\n",
        "    model.eval()\n",
        "    total_loss = 0\n",
        "    all_preds, all_labels = [], []\n",
        "\n",
        "    with torch.no_grad():\n",
        "        for batch in data_loader:\n",
        "            input_ids = batch['input_ids'].to(device)\n",
        "            attention_mask = batch['attention_mask'].to(device)\n",
        "            labels = batch['label'].to(device)\n",
        "\n",
        "            outputs = model(input_ids, attention_mask=attention_mask)\n",
        "            logits = outputs.logits\n",
        "\n",
        "            if criterion:\n",
        "                loss = criterion(logits, labels)\n",
        "                total_loss += loss.item()\n",
        "\n",
        "            preds = torch.argmax(logits, dim=1)\n",
        "            all_preds.extend(preds.cpu().numpy())\n",
        "            all_labels.extend(labels.cpu().numpy())\n",
        "\n",
        "    accuracy = accuracy_score(all_labels, all_preds)\n",
        "    precision, recall, f1, _ = precision_recall_fscore_support(all_labels, all_preds, average=\"macro\")\n",
        "\n",
        "    if return_loss:\n",
        "        return total_loss / len(data_loader)\n",
        "\n",
        "    print(f\"Accuracy: {accuracy:.4f}\")\n",
        "    print(f\"Precision: {precision:.4f}, Recall: {recall:.4f}, F1-Score: {f1:.4f}\")\n"
      ],
      "metadata": {
        "id": "kzJQ_t5jFxqm"
      },
      "execution_count": 54,
      "outputs": []
    },
    {
      "cell_type": "markdown",
      "source": [
        "This code depicts the final training and testing phase of a sentiment analysis model where it combines with the former setup of the training and evaluation pipeline. The optimizer and scheduler have incorporated AdamW as the optimizer. A linear learning rate scheduler and a loss function using CrossEntropyLoss are implemented. The setup related to the device has evaluated whether there is a GPU and, if so, moved the model to it.\n",
        "\n",
        "It is trained on the training dataset and validated on the validation dataset. Optimizer, scheduler, loss function, and device are passed as arguments to the function. This function trains the model for 10 epochs.\n",
        "\n",
        "The model is tested by the evaluate function, which computes metrics such as accuracy, precision, recall, and F1-score on the test data. If the model file 'best_model.pth' does not exist, it prints an error message and asks the user to train the model first.\n",
        "\n",
        "The code integrates with previous steps, integrating with the dataset and model, tokenizer, and model. The optimizer, loss function, and scheduler are crucial in the training pipeline, controlling how the model learns and adjusts its learning rate. Finally, the model is saved and loaded for testing, following the previous evaluation process."
      ],
      "metadata": {
        "id": "UxTTqf4-QXuA"
      }
    },
    {
      "cell_type": "code",
      "source": [
        "# Optimizer and Scheduler\n",
        "optimizer = AdamW(model.parameters(), lr=5e-5, weight_decay=1e-2)\n",
        "total_steps = len(train_loader) * 10  # 10 epochs\n",
        "scheduler = get_scheduler(\"linear\", optimizer=optimizer, num_warmup_steps=0, num_training_steps=total_steps)\n",
        "criterion = torch.nn.CrossEntropyLoss()\n",
        "\n",
        "# Use GPU if available\n",
        "device = torch.device(\"cuda\" if torch.cuda.is_available() else \"cpu\")\n",
        "model.to(device)\n",
        "\n",
        "# Train the model\n",
        "train(model, train_loader, val_loader, optimizer, scheduler, criterion, device)\n",
        "\n",
        "# Test the model\n",
        "print(\"\\nTesting Results:\")\n",
        "if os.path.exists('best_model.pth'):\n",
        "    model.load_state_dict(torch.load('best_model.pth'))\n",
        "    evaluate(model, test_loader, device)\n",
        "else:\n",
        "    print(\"Error: 'best_model.pth' not found. Train the model first.\")\n"
      ],
      "metadata": {
        "colab": {
          "base_uri": "https://localhost:8080/"
        },
        "id": "cvyVsjHkF9QK",
        "outputId": "e495a6a5-e757-4e57-f460-b1ded3207e02"
      },
      "execution_count": 55,
      "outputs": [
        {
          "output_type": "stream",
          "name": "stderr",
          "text": [
            "/usr/local/lib/python3.10/dist-packages/transformers/optimization.py:591: FutureWarning: This implementation of AdamW is deprecated and will be removed in a future version. Use the PyTorch implementation torch.optim.AdamW instead, or set `no_deprecation_warning=True` to disable this warning\n",
            "  warnings.warn(\n"
          ]
        },
        {
          "output_type": "stream",
          "name": "stdout",
          "text": [
            "Epoch 1/10 | Train Loss: 0.8244 | Val Loss: 0.5619\n",
            "Model saved to 'best_model.pth'\n",
            "Epoch 2/10 | Train Loss: 0.4761 | Val Loss: 0.5030\n",
            "Model saved to 'best_model.pth'\n",
            "Epoch 3/10 | Train Loss: 0.2689 | Val Loss: 0.5381\n",
            "Epoch 4/10 | Train Loss: 0.1638 | Val Loss: 0.5033\n",
            "Early stopping triggered.\n",
            "\n",
            "Testing Results:\n"
          ]
        },
        {
          "output_type": "stream",
          "name": "stderr",
          "text": [
            "<ipython-input-55-d82c11e9bb0f>:17: FutureWarning: You are using `torch.load` with `weights_only=False` (the current default value), which uses the default pickle module implicitly. It is possible to construct malicious pickle data which will execute arbitrary code during unpickling (See https://github.com/pytorch/pytorch/blob/main/SECURITY.md#untrusted-models for more details). In a future release, the default value for `weights_only` will be flipped to `True`. This limits the functions that could be executed during unpickling. Arbitrary objects will no longer be allowed to be loaded via this mode unless they are explicitly allowlisted by the user via `torch.serialization.add_safe_globals`. We recommend you start setting `weights_only=True` for any use case where you don't have full control of the loaded file. Please open an issue on GitHub for any issues related to this experimental feature.\n",
            "  model.load_state_dict(torch.load('best_model.pth'))\n"
          ]
        },
        {
          "output_type": "stream",
          "name": "stdout",
          "text": [
            "Accuracy: 0.7447\n",
            "Precision: 0.6930, Recall: 0.7237, F1-Score: 0.6866\n"
          ]
        }
      ]
    },
    {
      "cell_type": "markdown",
      "source": [
        "This code imports libraries in data visualization, model evaluations, and deep learning with Matplotlib and Seaborn for plotting confusion matrices and the training curves, using scikit-learn's functions for confusion_matrix and classification report, and using PyTorch and DataLoader for effective working with datasets."
      ],
      "metadata": {
        "id": "Ve97h205Q2vk"
      }
    },
    {
      "cell_type": "code",
      "source": [
        "import matplotlib.pyplot as plt\n",
        "import seaborn as sns\n",
        "from sklearn.metrics import confusion_matrix, classification_report\n",
        "import torch\n",
        "from torch.utils.data import DataLoader\n",
        "\n",
        "def predict_with_graph(model, data_loader, device):\n",
        "    model.eval()\n",
        "    all_preds, all_labels = [], []\n",
        "    correct_predictions = 0\n",
        "    total_predictions = 0\n",
        "\n",
        "    with torch.no_grad():\n",
        "        for batch in data_loader:\n",
        "            input_ids = batch['input_ids'].to(device)\n",
        "            attention_mask = batch['attention_mask'].to(device)\n",
        "            labels = batch['label'].to(device)\n",
        "\n",
        "            logits = model(input_ids, attention_mask=attention_mask).logits\n",
        "            preds = torch.argmax(logits, dim=1)\n",
        "            all_preds.extend(preds.cpu().numpy())\n",
        "            all_labels.extend(labels.cpu().numpy())\n",
        "\n",
        "            correct_predictions += (preds == labels).sum().item()\n",
        "            total_predictions += len(labels)\n",
        "\n",
        "    accuracy = correct_predictions / total_predictions * 100\n",
        "    print(f\"Prediction Accuracy: {accuracy:.2f}%\")\n",
        "    print(\"\\nClassification Report:\")\n",
        "    print(classification_report(all_labels, all_preds, target_names=[\"Negative\", \"Positive\", \"Neutral\"]))\n",
        "\n",
        "    cm = confusion_matrix(all_labels, all_preds)\n",
        "\n",
        "    # Plot Confusion Matrix\n",
        "    plt.figure(figsize=(8, 6))\n",
        "    sns.heatmap(cm, annot=True, fmt=\"d\", cmap=\"Blues\",\n",
        "                xticklabels=[\"Negative\", \"Positive\", \"Neutral\"],\n",
        "                yticklabels=[\"Negative\", \"Positive\", \"Neutral\"])\n",
        "    plt.title(\"Confusion Matrix\")\n",
        "    plt.xlabel(\"Predicted\")\n",
        "    plt.ylabel(\"True\")\n",
        "    plt.show()\n",
        "\n",
        "    # Per-Class Accuracy\n",
        "    class_counts = [sum([1 for label in all_labels if label == i]) for i in range(3)]\n",
        "    class_correct = [sum([(pred == label) for pred, label in zip(all_preds, all_labels) if label == i]) for i in range(3)]\n",
        "    class_accuracy = [correct / total * 100 for correct, total in zip(class_correct, class_counts)]\n",
        "\n",
        "    # Plot Per-Class Accuracy\n",
        "    plt.figure(figsize=(8, 6))\n",
        "    bars = plt.bar([\"Negative\", \"Positive\", \"Neutral\"], class_accuracy, color=\"skyblue\")\n",
        "    plt.title(\"Per-Class Accuracy\")\n",
        "    plt.xlabel(\"Sentiment Class\")\n",
        "    plt.ylabel(\"Accuracy (%)\")\n",
        "\n",
        "    for bar, accuracy in zip(bars, class_accuracy):\n",
        "        plt.text(bar.get_x() + bar.get_width() / 2, bar.get_height() + 1, f\"{accuracy:.2f}%\",\n",
        "                 ha='center', va='bottom', fontsize=12)\n",
        "\n",
        "    plt.show()\n",
        "\n",
        "# Example of creating a DataLoader for test data\n",
        "test_loader = DataLoader(test_dataset, batch_size=32, shuffle=False)\n",
        "\n",
        "# Assuming model and device are already defined\n",
        "predict_with_graph(model, test_loader, device)\n"
      ],
      "metadata": {
        "colab": {
          "base_uri": "https://localhost:8080/",
          "height": 1000
        },
        "id": "GeGCl43USgae",
        "outputId": "e5f64396-4e06-4866-ec64-6e6551bc95bf"
      },
      "execution_count": 70,
      "outputs": [
        {
          "output_type": "stream",
          "name": "stdout",
          "text": [
            "Prediction Accuracy: 74.47%\n",
            "\n",
            "Classification Report:\n",
            "              precision    recall  f1-score   support\n",
            "\n",
            "    Negative       0.78      0.61      0.68        23\n",
            "    Positive       0.88      0.79      0.84        58\n",
            "     Neutral       0.42      0.77      0.54        13\n",
            "\n",
            "    accuracy                           0.74        94\n",
            "   macro avg       0.69      0.72      0.69        94\n",
            "weighted avg       0.79      0.74      0.76        94\n",
            "\n"
          ]
        },
        {
          "output_type": "display_data",
          "data": {
            "text/plain": [
              "<Figure size 800x600 with 2 Axes>"
            ],
            "image/png": "[encoded data removed]"
          },
          "metadata": {}
        },
        {
          "output_type": "display_data",
          "data": {
            "text/plain": [
              "<Figure size 800x600 with 1 Axes>"
            ],
            "image/png": "[encoded data removed]"
          },
          "metadata": {}
        }
      ]
    },
    {
      "cell_type": "markdown",
      "source": [
        "The code snippet demonstrates the use of the torch.nn.functional module, which provides functional operations such as activation and loss functions. The analyze_feedback function is used to preprocess input text, tokenize it into a model-friendly format, and pass the tokenized text through the model for sentiment prediction. The tokenizer converts the preprocessed text into a suitable format, ensuring all inputs have the same size. The tokenizer moves the tokens to the correct device for efficient computation.\n",
        "\n",
        "The model is then evaluated using the torch.no_grad() function, which disables operations like dropout during training but not during inference. The outputs are then passed through the model to get predictions, with logits representing the raw prediction scores for each sentiment class. The softmax function is applied to the logits to convert them into probabilities, ensuring that the probabilities for each class sum up to 1.\n",
        "\n",
        "The output results are printed, including the original feedback, preprocessed version, predicted sentiment label, and confidence scores for each sentiment class. The program also includes an example user input loop, where the analyze_feedback function is called to process and predict the sentiment for each input."
      ],
      "metadata": {
        "id": "nBR0Hsh_Moto"
      }
    },
    {
      "cell_type": "code",
      "source": [
        "import torch.nn.functional as F\n",
        "\n",
        "def analyze_feedback(model, feedback, tokenizer, device):\n",
        "    \"\"\"\n",
        "    Analyze the sentiment of a single feedback input.\n",
        "    - Tokenizes and processes feedback text.\n",
        "    - Predicts sentiment and returns confidence percentages.\n",
        "    \"\"\"\n",
        "    # Preprocess feedback\n",
        "    feedback_preprocessed = preprocess_text(feedback)\n",
        "\n",
        "    # Tokenize feedback\n",
        "    tokens = tokenizer(\n",
        "        feedback_preprocessed,\n",
        "        padding=\"max_length\",\n",
        "        truncation=True,\n",
        "        max_length=256,  # Increased max length\n",
        "        return_tensors=\"pt\"\n",
        "    )\n",
        "\n",
        "    # Move tokens to device\n",
        "    input_ids = tokens['input_ids'].to(device)\n",
        "    attention_mask = tokens['attention_mask'].to(device)\n",
        "\n",
        "    # Model inference\n",
        "    model.eval()\n",
        "    with torch.no_grad():\n",
        "        # The model directly returns logits, not a dictionary\n",
        "        outputs = model(input_ids, attention_mask=attention_mask)\n",
        "        # Get the logits from the output object\n",
        "        logits = outputs.logits\n",
        "        probabilities = F.softmax(logits, dim=1).squeeze(0)\n",
        "\n",
        "    # Get sentiment predictions and confidence scores\n",
        "    class_mapping = {0: \"Negative\", 1: \"Neutral\", 2: \"Positive\"}\n",
        "    predicted_label = torch.argmax(probabilities).item()\n",
        "    confidence_scores = probabilities.cpu().numpy() * 100\n",
        "\n",
        "    # Output the results\n",
        "    print(f\"\\nOriginal Feedback: {feedback}\")\n",
        "    print(f\"Preprocessed Feedback: {feedback_preprocessed}\")\n",
        "    print(f\"Predicted Sentiment: {class_mapping[predicted_label]}\")\n",
        "    print(f\"Confidence Scores:\")\n",
        "    for i, sentiment in class_mapping.items():\n",
        "        print(f\"  {sentiment}: {confidence_scores[i]:.2f}%\")\n",
        "\n",
        "# Example Usage\n",
        "while True:\n",
        "    feedback_input = input(\"\\nEnter your feedback (or type 'quit' to end): \")\n",
        "    if feedback_input.lower() == 'quit':\n",
        "        break  # Exit the loop if the user types 'quit'\n",
        "\n",
        "    analyze_feedback(model, feedback_input, tokenizer, device)\n",
        "\n",
        "print(\"Program ended.\")"
      ],
      "metadata": {
        "colab": {
          "base_uri": "https://localhost:8080/"
        },
        "id": "8M0tfXe3TgRj",
        "outputId": "325aa84d-2c7e-4348-a2d8-36d559f15a50"
      },
      "execution_count": 77,
      "outputs": [
        {
          "output_type": "stream",
          "name": "stdout",
          "text": [
            "\n",
            "Enter your feedback (or type 'quit' to end): HyFlex learning has transformed my education experience by offering flexibility and personalized learning opportunities.\n",
            "\n",
            "Original Feedback: HyFlex learning has transformed my education experience by offering flexibility and personalized learning opportunities.\n",
            "Preprocessed Feedback: hyflex learning transformed education experience offering flexibility personalized learning opportunities\n",
            "Predicted Sentiment: Neutral\n",
            "Confidence Scores:\n",
            "  Negative: 12.31%\n",
            "  Neutral: 54.52%\n",
            "  Positive: 33.17%\n",
            "\n",
            "Enter your feedback (or type 'quit' to end): should have stable internet\n",
            "\n",
            "Original Feedback: should have stable internet\n",
            "Preprocessed Feedback: stable internet\n",
            "Predicted Sentiment: Negative\n",
            "Confidence Scores:\n",
            "  Negative: 94.42%\n",
            "  Neutral: 1.36%\n",
            "  Positive: 4.21%\n",
            "\n",
            "Enter your feedback (or type 'quit' to end): I love hyflex learning it very convinient\n",
            "\n",
            "Original Feedback: I love hyflex learning it very convinient\n",
            "Preprocessed Feedback: love hyflex learning convinient\n",
            "Predicted Sentiment: Positive\n",
            "Confidence Scores:\n",
            "  Negative: 11.01%\n",
            "  Neutral: 32.56%\n",
            "  Positive: 56.44%\n",
            "\n",
            "Enter your feedback (or type 'quit' to end): Being more Active At most of times\n",
            "\n",
            "Original Feedback: Being more Active At most of times\n",
            "Preprocessed Feedback: active times\n",
            "Predicted Sentiment: Neutral\n",
            "Confidence Scores:\n",
            "  Negative: 4.46%\n",
            "  Neutral: 77.96%\n",
            "  Positive: 17.57%\n",
            "\n",
            "Enter your feedback (or type 'quit' to end): Being able to experience both in-person and online learning.\n",
            "\n",
            "Original Feedback: Being able to experience both in-person and online learning.\n",
            "Preprocessed Feedback: able experience inperson online learning\n",
            "Predicted Sentiment: Neutral\n",
            "Confidence Scores:\n",
            "  Negative: 2.27%\n",
            "  Neutral: 88.95%\n",
            "  Positive: 8.78%\n",
            "\n",
            "Enter your feedback (or type 'quit' to end): quit\n",
            "Program ended.\n"
          ]
        }
      ]
    }
  ],
  "metadata": {
    "colab": {
      "provenance": []
    },
    "kernelspec": {
      "display_name": "Python 3",
      "name": "python3"
    },
    "language_info": {
      "name": "python"
    }
  },
  "nbformat": 4,
  "nbformat_minor": 0
}